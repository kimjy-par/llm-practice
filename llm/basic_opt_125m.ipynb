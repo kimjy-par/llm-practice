{
 "cells": [
  {
   "cell_type": "code",
   "execution_count": 1,
   "id": "cc6dc984-b298-4d3d-8030-a466e26acef1",
   "metadata": {},
   "outputs": [],
   "source": [
    "from transformers import AutoTokenizer, AutoModelForCausalLM"
   ]
  },
  {
   "cell_type": "code",
   "execution_count": 2,
   "id": "97bb8590-a509-4664-a0da-15968eec3c3a",
   "metadata": {},
   "outputs": [
    {
     "name": "stderr",
     "output_type": "stream",
     "text": [
      "/opt/homebrew/anaconda3/envs/mlops-auth-api/lib/python3.9/site-packages/transformers/tokenization_utils_base.py:1601: FutureWarning: `clean_up_tokenization_spaces` was not set. It will be set to `True` by default. This behavior will be depracted in transformers v4.45, and will be then set to `False` by default. For more details check this issue: https://github.com/huggingface/transformers/issues/31884\n",
      "  warnings.warn(\n"
     ]
    }
   ],
   "source": [
    "model_name = \"facebook/opt-125m\"\n",
    "tokenizer = AutoTokenizer.from_pretrained(model_name)\n",
    "model = AutoModelForCausalLM.from_pretrained(model_name)"
   ]
  },
  {
   "cell_type": "code",
   "execution_count": 3,
   "id": "96726537-cc90-4cb7-8b9c-59dd91e13951",
   "metadata": {},
   "outputs": [
    {
     "data": {
      "text/plain": [
       "125239296"
      ]
     },
     "execution_count": 3,
     "metadata": {},
     "output_type": "execute_result"
    }
   ],
   "source": [
    "model.num_parameters()"
   ]
  },
  {
   "cell_type": "code",
   "execution_count": 10,
   "id": "d2698edb-0d35-4d18-98dd-1bcf27edf1aa",
   "metadata": {},
   "outputs": [],
   "source": [
    "input_text = \"안녕하세요. 자기소개 부탁드립니다.\"\n",
    "inputs = tokenizer(input_text, return_tensors=\"pt\")"
   ]
  },
  {
   "cell_type": "code",
   "execution_count": 11,
   "id": "022c5732-5f97-4d4b-9edb-e23495a2bf96",
   "metadata": {},
   "outputs": [
    {
     "data": {
      "text/plain": [
       "{'input_ids': tensor([[    2, 43998, 15722, 23133, 45209,  5782, 15722, 48589,   711, 43998,\n",
       "         11936, 18537, 43998, 15113, 10674,     4, 46747, 17772, 16948, 46873,\n",
       "         18537,  7487, 43998, 27819, 14285, 46873,  7487,    48, 47672, 19002,\n",
       "          7471, 47649,   862, 10172, 45209,  9085,    48, 45209, 18164, 10809,\n",
       "         48444, 23133, 48444, 10470,     4]]), 'attention_mask': tensor([[1, 1, 1, 1, 1, 1, 1, 1, 1, 1, 1, 1, 1, 1, 1, 1, 1, 1, 1, 1, 1, 1, 1, 1,\n",
       "         1, 1, 1, 1, 1, 1, 1, 1, 1, 1, 1, 1, 1, 1, 1, 1, 1, 1, 1, 1, 1]])}"
      ]
     },
     "execution_count": 11,
     "metadata": {},
     "output_type": "execute_result"
    }
   ],
   "source": [
    "inputs"
   ]
  },
  {
   "cell_type": "code",
   "execution_count": 12,
   "id": "02c5a147-57f3-48a9-b28a-cff8f5e809ff",
   "metadata": {},
   "outputs": [],
   "source": [
    "outputs = model.generate(inputs[\"input_ids\"], max_length=50, num_return_sequences=1)"
   ]
  },
  {
   "cell_type": "code",
   "execution_count": 13,
   "id": "d65f59a0-eb91-428d-9bc3-abb6c014aa10",
   "metadata": {},
   "outputs": [
    {
     "data": {
      "text/plain": [
       "tensor([[    2, 43998, 15722, 23133, 45209,  5782, 15722, 48589,   711, 43998,\n",
       "         11936, 18537, 43998, 15113, 10674,     4, 46747, 17772, 16948, 46873,\n",
       "         18537,  7487, 43998, 27819, 14285, 46873,  7487,    48, 47672, 19002,\n",
       "          7471, 47649,   862, 10172, 45209,  9085,    48, 45209, 18164, 10809,\n",
       "         48444, 23133, 48444, 10470,     4, 46747, 17772, 16948, 46873, 18537]])"
      ]
     },
     "execution_count": 13,
     "metadata": {},
     "output_type": "execute_result"
    }
   ],
   "source": [
    "outputs"
   ]
  },
  {
   "cell_type": "code",
   "execution_count": 14,
   "id": "5509d3af-6ed2-4147-8986-8dbe77604da5",
   "metadata": {},
   "outputs": [],
   "source": [
    "generated_text = tokenizer.decode(outputs[0], skip_special_tokens=True)"
   ]
  },
  {
   "cell_type": "code",
   "execution_count": 15,
   "id": "c34d289d-2a96-49e0-bb4a-b27308c5cce3",
   "metadata": {},
   "outputs": [
    {
     "data": {
      "text/plain": [
       "'안녕하세요. 자기소개 부탁드립니다. 자�'"
      ]
     },
     "execution_count": 15,
     "metadata": {},
     "output_type": "execute_result"
    }
   ],
   "source": [
    "generated_text"
   ]
  },
  {
   "cell_type": "code",
   "execution_count": null,
   "id": "8fe59ae5-c445-4de5-bd47-0f564941d3f7",
   "metadata": {},
   "outputs": [],
   "source": []
  }
 ],
 "metadata": {
  "kernelspec": {
   "display_name": "Python 3 (ipykernel)",
   "language": "python",
   "name": "python3"
  },
  "language_info": {
   "codemirror_mode": {
    "name": "ipython",
    "version": 3
   },
   "file_extension": ".py",
   "mimetype": "text/x-python",
   "name": "python",
   "nbconvert_exporter": "python",
   "pygments_lexer": "ipython3",
   "version": "3.9.19"
  }
 },
 "nbformat": 4,
 "nbformat_minor": 5
}
