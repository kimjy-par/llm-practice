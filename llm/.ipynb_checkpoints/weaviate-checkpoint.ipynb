{
 "cells": [
  {
   "cell_type": "code",
   "execution_count": 62,
   "id": "ac913dfa-3cbd-45f0-aabc-7a3f4fb7ef0a",
   "metadata": {
    "scrolled": true
   },
   "outputs": [],
   "source": [
    "import requests\n",
    "import json\n",
    "import weaviate\n",
    "\n",
    "from transformers import AutoModel, AutoTokenizer\n",
    "import torch\n",
    "import weaviate.classes as wvc\n",
    "import numpy as np"
   ]
  },
  {
   "cell_type": "code",
   "execution_count": 23,
   "id": "839ced91-7766-44af-afbb-fde479f0de25",
   "metadata": {},
   "outputs": [
    {
     "data": {
      "text/plain": [
       "XLMRobertaModel(\n",
       "  (embeddings): XLMRobertaEmbeddings(\n",
       "    (word_embeddings): Embedding(250002, 1024, padding_idx=1)\n",
       "    (position_embeddings): Embedding(8194, 1024, padding_idx=1)\n",
       "    (token_type_embeddings): Embedding(1, 1024)\n",
       "    (LayerNorm): LayerNorm((1024,), eps=1e-05, elementwise_affine=True)\n",
       "    (dropout): Dropout(p=0.1, inplace=False)\n",
       "  )\n",
       "  (encoder): XLMRobertaEncoder(\n",
       "    (layer): ModuleList(\n",
       "      (0-23): 24 x XLMRobertaLayer(\n",
       "        (attention): XLMRobertaAttention(\n",
       "          (self): XLMRobertaSelfAttention(\n",
       "            (query): Linear(in_features=1024, out_features=1024, bias=True)\n",
       "            (key): Linear(in_features=1024, out_features=1024, bias=True)\n",
       "            (value): Linear(in_features=1024, out_features=1024, bias=True)\n",
       "            (dropout): Dropout(p=0.1, inplace=False)\n",
       "          )\n",
       "          (output): XLMRobertaSelfOutput(\n",
       "            (dense): Linear(in_features=1024, out_features=1024, bias=True)\n",
       "            (LayerNorm): LayerNorm((1024,), eps=1e-05, elementwise_affine=True)\n",
       "            (dropout): Dropout(p=0.1, inplace=False)\n",
       "          )\n",
       "        )\n",
       "        (intermediate): XLMRobertaIntermediate(\n",
       "          (dense): Linear(in_features=1024, out_features=4096, bias=True)\n",
       "          (intermediate_act_fn): GELUActivation()\n",
       "        )\n",
       "        (output): XLMRobertaOutput(\n",
       "          (dense): Linear(in_features=4096, out_features=1024, bias=True)\n",
       "          (LayerNorm): LayerNorm((1024,), eps=1e-05, elementwise_affine=True)\n",
       "          (dropout): Dropout(p=0.1, inplace=False)\n",
       "        )\n",
       "      )\n",
       "    )\n",
       "  )\n",
       "  (pooler): XLMRobertaPooler(\n",
       "    (dense): Linear(in_features=1024, out_features=1024, bias=True)\n",
       "    (activation): Tanh()\n",
       "  )\n",
       ")"
      ]
     },
     "execution_count": 23,
     "metadata": {},
     "output_type": "execute_result"
    }
   ],
   "source": [
    "model_name = \"BAAI/bge-m3\"  # 모델 이름\n",
    "tokenizer = AutoTokenizer.from_pretrained(model_name)\n",
    "model = AutoModel.from_pretrained(model_name)\n",
    "model.eval()"
   ]
  },
  {
   "cell_type": "code",
   "execution_count": 78,
   "id": "d6bb7604-08a3-49d3-8bb3-0be50db42fee",
   "metadata": {},
   "outputs": [],
   "source": [
    "sentences=[\"안녕\"]"
   ]
  },
  {
   "cell_type": "code",
   "execution_count": 79,
   "id": "936cdcb6-735d-4b10-9eaa-061f8581b59d",
   "metadata": {},
   "outputs": [
    {
     "name": "stdout",
     "output_type": "stream",
     "text": [
      "Sentence embeddings: tensor([[-0.0160,  0.0335, -0.0276,  ...,  0.0172, -0.0421,  0.0203],\n",
      "        [-0.0199,  0.0241, -0.0336,  ..., -0.0021, -0.0322,  0.0461],\n",
      "        [-0.0133,  0.0142, -0.0392,  ...,  0.0147, -0.0407,  0.0138]])\n"
     ]
    }
   ],
   "source": [
    "print(\"Sentence embeddings:\", sentence_embeddings)"
   ]
  },
  {
   "cell_type": "code",
   "execution_count": 160,
   "id": "8fbe7f43-11d9-419e-904d-ae3179af3a3d",
   "metadata": {},
   "outputs": [],
   "source": [
    "def do_embedding(sentences: list, model=model):\n",
    "    encoded_input = tokenizer(sentences, padding=True, truncation=True, return_tensors='pt')\n",
    "    with torch.no_grad():\n",
    "        model_output = model(**encoded_input)\n",
    "        # Perform pooling. In this case, cls pooling.\n",
    "        sentence_embeddings = model_output[0][:, 0]\n",
    "    sentence_embeddings = torch.nn.functional.normalize(sentence_embeddings, p=2, dim=1)\n",
    "    return sentence_embeddings[0]"
   ]
  },
  {
   "cell_type": "code",
   "execution_count": 162,
   "id": "7b09ce65-23b2-4905-8c4a-b9b0c3a43463",
   "metadata": {},
   "outputs": [
    {
     "data": {
      "text/plain": [
       "tensor([-0.0160,  0.0335, -0.0276,  ...,  0.0172, -0.0421,  0.0203])"
      ]
     },
     "execution_count": 162,
     "metadata": {},
     "output_type": "execute_result"
    }
   ],
   "source": [
    "do_embedding(sentences)"
   ]
  },
  {
   "cell_type": "code",
   "execution_count": 93,
   "id": "37184cb7-55b4-4c43-8b6d-84300fcdcdfa",
   "metadata": {},
   "outputs": [],
   "source": [
    "client = weaviate.connect_to_local(\n",
    "    host=\"127.0.0.1\",  # Use a string to specify the host\n",
    "    port=8080,\n",
    "    grpc_port=50051,\n",
    ")"
   ]
  },
  {
   "cell_type": "code",
   "execution_count": 259,
   "id": "9589d5d3-dc2a-4551-87b5-76216605bfc4",
   "metadata": {},
   "outputs": [],
   "source": [
    "client.collections.delete(\"Question\")\n",
    "my_vecs = client.collections.create(\n",
    "        \"Question\",\n",
    "        vectorizer_config=wvc.config.Configure.Vectorizer.none(),\n",
    "        vector_index_config=wvc.config.Configure.VectorIndex.hnsw(\n",
    "            distance_metric=wvc.config.VectorDistances.COSINE # select prefered distance metric\n",
    "        ),\n",
    "    )"
   ]
  },
  {
   "cell_type": "code",
   "execution_count": 260,
   "id": "38b43e17-cd79-4e6b-a726-a2525ca32b16",
   "metadata": {},
   "outputs": [],
   "source": [
    "my_new_questions = [\n",
    "    {\"answer\": \"\b투썸플레이스\", \"question\": \"비싼 카페는?\", \"category\": \"카페\"},\n",
    "    {\"answer\": \"백다방\", \"question\": \"저렴하고 간얼음 파는 카페는?\", \"category\": \"카페\"},\n",
    "    {\"answer\": \"\b메가커피\", \"question\": \"쫌 싸지만 손흥민이 광고하는 카페\", \"category\": \"카페\"},\n",
    "    {\"answer\": \"플래그원\", \"question\": \"두가지 원두 커피를 제공하는 공유오피스\", \"category\": \"공유오피스\"},\n",
    "    {\"answer\": \"\b스타벅스\", \"question\": \"플래그원 1층에 있는 카페\", \"category\": \"카페\"},\n",
    "    {\"answer\": \"에그드랍\", \"question\": \"커피랑 토스트 같이 파는 곳\", \"category\": \"음식점\"},\n",
    "    {\"answer\": \"\b토스트식당\", \"question\": \"토스트는 파는데 커피는 안먹고 싶을 때 가는 가게\", \"category\": \"음식점\"},\n",
    "    {\"answer\": \"\b이삭토스트\", \"question\": \"토스트랑 커피랑 생과일쥬스도 파는 곳\", \"category\": \"음식점\"},\n",
    "    {\"answer\": \"공차\", \"question\": \"카페인데 버블티가 주력인 곳\", \"category\": \"카페\"},\n",
    "    {\"answer\": \"커피빈\", \"question\": \"잘잘한 얼음을 넣은 커피를 파는 곳\", \"category\": \"카페\"},\n",
    "]"
   ]
  },
  {
   "cell_type": "code",
   "execution_count": 261,
   "id": "5da0d4d2-aab4-4999-8c9e-46ce36d3b211",
   "metadata": {},
   "outputs": [
    {
     "data": {
      "text/plain": [
       "BatchObjectReturn(_all_responses=[UUID('616be6a6-6c4f-44ea-b088-60fbf0719bbd'), UUID('d1c4fee2-5e9d-4020-bca4-66a6ecc11e4a'), UUID('18e00cc2-059b-468a-a127-e902ee40a811'), UUID('5847a2fe-af09-4eb8-862b-e356162a6df8'), UUID('865893ab-71ae-487d-b961-acc4927bb684'), UUID('c336dcd3-a26e-499e-b0d5-f66c2195b667'), UUID('0479c5c9-3f40-431e-b196-06b5dc233f5b'), UUID('2125d8cf-b457-475b-b596-9f8bf500523f'), UUID('d115a267-3ae0-4f15-b7d9-de089fea98e7'), UUID('624141fe-ea8f-4423-882e-157dbc5c2cc0')], elapsed_seconds=0.0068950653076171875, errors={}, uuids={0: UUID('616be6a6-6c4f-44ea-b088-60fbf0719bbd'), 1: UUID('d1c4fee2-5e9d-4020-bca4-66a6ecc11e4a'), 2: UUID('18e00cc2-059b-468a-a127-e902ee40a811'), 3: UUID('5847a2fe-af09-4eb8-862b-e356162a6df8'), 4: UUID('865893ab-71ae-487d-b961-acc4927bb684'), 5: UUID('c336dcd3-a26e-499e-b0d5-f66c2195b667'), 6: UUID('0479c5c9-3f40-431e-b196-06b5dc233f5b'), 7: UUID('2125d8cf-b457-475b-b596-9f8bf500523f'), 8: UUID('d115a267-3ae0-4f15-b7d9-de089fea98e7'), 9: UUID('624141fe-ea8f-4423-882e-157dbc5c2cc0')}, has_errors=False)"
      ]
     },
     "execution_count": 261,
     "metadata": {},
     "output_type": "execute_result"
    }
   ],
   "source": [
    "questions = client.collections.get(\"Question\")\n",
    "question_list = list()\n",
    "for my_question in my_new_questions:\n",
    "    question_list.append(wvc.data.DataObject(\n",
    "        properties=my_question, \n",
    "        vector=do_embedding(my_question['question']).numpy().tolist()\n",
    "    ))\n",
    "questions.data.insert_many(question_list)"
   ]
  },
  {
   "cell_type": "code",
   "execution_count": 262,
   "id": "44e58753-b1b3-4445-b36f-67c4febf3b0a",
   "metadata": {},
   "outputs": [
    {
     "name": "stdout",
     "output_type": "stream",
     "text": [
      "{'answer': '에그드랍', 'question': '커피랑 토스트 같이 파는 곳', 'category': '음식점'}\n",
      "{'answer': '\\x08이삭토스트', 'question': '토스트랑 커피랑 생과일쥬스도 파는 곳', 'category': '음식점'}\n"
     ]
    }
   ],
   "source": [
    "question = \"커피도 먹고 토스트도 먹을 수 있는 곳은?\"\n",
    "\n",
    "questions = client.collections.get(\"Question\")\n",
    "query_vector = do_embedding(question).numpy().tolist()\n",
    "resps = questions.query.near_vector(\n",
    "    near_vector=query_vector,\n",
    "    limit=2,\n",
    "    return_metadata=wvc.query.MetadataQuery(certainty=True)\n",
    ")\n",
    "\n",
    "for obj in resps.objects:\n",
    "    print(obj.properties)"
   ]
  },
  {
   "cell_type": "code",
   "execution_count": 263,
   "id": "66e30eab-7683-40dd-a0c5-8bbd9e06735d",
   "metadata": {},
   "outputs": [
    {
     "name": "stdout",
     "output_type": "stream",
     "text": [
      "{'answer': '커피빈', 'question': '잘잘한 얼음을 넣은 커피를 파는 곳', 'category': '카페'}\n",
      "{'answer': '백다방', 'question': '저렴하고 간얼음 파는 카페는?', 'category': '카페'}\n"
     ]
    }
   ],
   "source": [
    "question = \"잘잘한 얼음이 먹고싶을 때 가는 카페는?\"\n",
    "\n",
    "questions = client.collections.get(\"Question\")\n",
    "query_vector = do_embedding(question).numpy().tolist()\n",
    "resps = questions.query.near_vector(\n",
    "    near_vector=query_vector,\n",
    "    limit=2,\n",
    "    return_metadata=wvc.query.MetadataQuery(certainty=True)\n",
    ")\n",
    "\n",
    "for obj in resps.objects:\n",
    "    print(obj.properties)"
   ]
  },
  {
   "cell_type": "code",
   "execution_count": 264,
   "id": "733a6a2f-8abf-4fc5-ac55-508b41e87c3f",
   "metadata": {},
   "outputs": [
    {
     "name": "stdout",
     "output_type": "stream",
     "text": [
      "{'answer': '\\x08스타벅스', 'question': '플래그원 1층에 있는 카페', 'category': '카페'}\n",
      "{'answer': '공차', 'question': '카페인데 버블티가 주력인 곳', 'category': '카페'}\n"
     ]
    }
   ],
   "source": [
    "question = \"플래그원에서 커피 먹을 수 있는 공간은 어디야?\"\n",
    "\n",
    "questions = client.collections.get(\"Question\")\n",
    "query_vector = do_embedding(question).numpy().tolist()\n",
    "resps = questions.query.near_vector(\n",
    "    near_vector=query_vector,\n",
    "    limit=2,\n",
    "    return_metadata=wvc.query.MetadataQuery(certainty=True)\n",
    ")\n",
    "\n",
    "for obj in resps.objects:\n",
    "    print(obj.properties)"
   ]
  },
  {
   "cell_type": "code",
   "execution_count": null,
   "id": "92410108-1f63-46fb-82b7-50af39dad8fc",
   "metadata": {},
   "outputs": [],
   "source": []
  }
 ],
 "metadata": {
  "kernelspec": {
   "display_name": "Python 3 (ipykernel)",
   "language": "python",
   "name": "python3"
  },
  "language_info": {
   "codemirror_mode": {
    "name": "ipython",
    "version": 3
   },
   "file_extension": ".py",
   "mimetype": "text/x-python",
   "name": "python",
   "nbconvert_exporter": "python",
   "pygments_lexer": "ipython3",
   "version": "3.9.19"
  }
 },
 "nbformat": 4,
 "nbformat_minor": 5
}
